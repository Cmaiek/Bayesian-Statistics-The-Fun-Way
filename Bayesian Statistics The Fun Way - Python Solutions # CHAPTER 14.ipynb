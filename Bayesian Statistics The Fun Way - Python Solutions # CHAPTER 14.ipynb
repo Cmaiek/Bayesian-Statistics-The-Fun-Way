{
 "cells": [
  {
   "cell_type": "code",
   "execution_count": 1,
   "metadata": {},
   "outputs": [],
   "source": [
    "import math\n",
    "import numpy as np\n",
    "import scipy.stats\n",
    "from scipy.stats import beta\n",
    "from scipy.stats import binom\n",
    "from scipy.stats import norm\n",
    "import matplotlib.pyplot as plt\n",
    "import seaborn as sns\n",
    "import pandas as pd\n",
    "%matplotlib inline\n",
    "\n",
    "# this will make plots a little bit prettier\n",
    "sns.set(style='darkgrid')\n",
    "sns.set_context('talk')"
   ]
  },
  {
   "cell_type": "markdown",
   "metadata": {},
   "source": [
    "# Parameter Estimation With Prior Probabilities"
   ]
  },
  {
   "cell_type": "markdown",
   "metadata": {},
   "source": [
    "### 2.  To test the coin, you flip it 20 more times and get 9 heads and 11 tails. Using the priors you calculated in the previous question, what are the updated posterior beliefs in the true rate of flipping a heads in terms of the 95 percent confidence interval?\n"
   ]
  },
  {
   "cell_type": "code",
   "execution_count": 3,
   "metadata": {},
   "outputs": [],
   "source": [
    "prior = {\n",
    "    '1st': {'alpha': 7, 'beta': 3},\n",
    "    '2nd': {'alpha': 1000, 'beta': 1000},\n",
    "    '3rd': {'alpha': 70, 'beta': 30},\n",
    "}\n",
    "\n",
    "data = {\n",
    "    'alpha': 18,\n",
    "    'beta': 14\n",
    "}"
   ]
  },
  {
   "cell_type": "code",
   "execution_count": 23,
   "metadata": {},
   "outputs": [],
   "source": [
    "def calculate_95_CI(prior, data):\n",
    "    for p in prior.keys():\n",
    "        a = prior[p]['alpha'] + data['alpha']\n",
    "        b = prior[p]['beta'] +  data['beta']\n",
    "        lower_bound = beta.ppf(0.025, a, b)\n",
    "        upper_bound = beta.ppf(0.975, a, b)\n",
    "        print(f'The 95 CI range for {p} person is {lower_bound} - {upper_bound}')\n",
    "    return"
   ]
  },
  {
   "cell_type": "code",
   "execution_count": 24,
   "metadata": {},
   "outputs": [
    {
     "name": "stdout",
     "output_type": "stream",
     "text": [
      "The 95 CI range for 1st person is 0.4450478233706892 - 0.7368320053113375\n",
      "The 95 CI range for 2nd person is 0.47925114151525294 - 0.5227155272566086\n",
      "The 95 CI range for 3rd person is 0.5843152658326919 - 0.7442339112415737\n"
     ]
    }
   ],
   "source": [
    "calculate_95_CI(prior, data)"
   ]
  }
 ],
 "metadata": {
  "kernelspec": {
   "display_name": "Python 3",
   "language": "python",
   "name": "python3"
  },
  "language_info": {
   "codemirror_mode": {
    "name": "ipython",
    "version": 3
   },
   "file_extension": ".py",
   "mimetype": "text/x-python",
   "name": "python",
   "nbconvert_exporter": "python",
   "pygments_lexer": "ipython3",
   "version": "3.8.1"
  }
 },
 "nbformat": 4,
 "nbformat_minor": 4
}
